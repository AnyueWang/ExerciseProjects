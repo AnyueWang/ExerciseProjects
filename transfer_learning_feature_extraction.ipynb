{
  "nbformat": 4,
  "nbformat_minor": 0,
  "metadata": {
    "colab": {
      "provenance": [],
      "authorship_tag": "ABX9TyO/Vr9Un/IgWz6pEwihahnu",
      "include_colab_link": true
    },
    "kernelspec": {
      "name": "python3",
      "display_name": "Python 3"
    },
    "language_info": {
      "name": "python"
    },
    "gpuClass": "standard",
    "accelerator": "GPU"
  },
  "cells": [
    {
      "cell_type": "markdown",
      "metadata": {
        "id": "view-in-github",
        "colab_type": "text"
      },
      "source": [
        "<a href=\"https://colab.research.google.com/github/AnyueWang/ExerciseProjects/blob/main/transfer_learning_feature_extraction.ipynb\" target=\"_parent\"><img src=\"https://colab.research.google.com/assets/colab-badge.svg\" alt=\"Open In Colab\"/></a>"
      ]
    },
    {
      "cell_type": "markdown",
      "source": [
        "# Transfer Learning - Feature Extraction\n",
        "\n",
        "Transfer learning is a leveraging a working model's existing architecture and learned patterns for our own problem.\n",
        "\n",
        "Benefits:\n",
        "1. Leverage an existing neural network architecture proven to work on problems similar to our own.\n",
        "2. Leverage a working neural network architecture which has already learned patterns on similar data to our own, then we can adapt those patterns to our own data."
      ],
      "metadata": {
        "id": "dG9wtHjdPGmj"
      }
    },
    {
      "cell_type": "code",
      "execution_count": 1,
      "metadata": {
        "colab": {
          "base_uri": "https://localhost:8080/"
        },
        "id": "s_nw_61KPC2j",
        "outputId": "5b258cb5-2c30-4040-cf3b-f007298c046e"
      },
      "outputs": [
        {
          "output_type": "stream",
          "name": "stdout",
          "text": [
            "Sat Dec 24 10:20:09 2022       \n",
            "+-----------------------------------------------------------------------------+\n",
            "| NVIDIA-SMI 460.32.03    Driver Version: 460.32.03    CUDA Version: 11.2     |\n",
            "|-------------------------------+----------------------+----------------------+\n",
            "| GPU  Name        Persistence-M| Bus-Id        Disp.A | Volatile Uncorr. ECC |\n",
            "| Fan  Temp  Perf  Pwr:Usage/Cap|         Memory-Usage | GPU-Util  Compute M. |\n",
            "|                               |                      |               MIG M. |\n",
            "|===============================+======================+======================|\n",
            "|   0  Tesla T4            Off  | 00000000:00:04.0 Off |                    0 |\n",
            "| N/A   57C    P0    26W /  70W |      0MiB / 15109MiB |      0%      Default |\n",
            "|                               |                      |                  N/A |\n",
            "+-------------------------------+----------------------+----------------------+\n",
            "                                                                               \n",
            "+-----------------------------------------------------------------------------+\n",
            "| Processes:                                                                  |\n",
            "|  GPU   GI   CI        PID   Type   Process name                  GPU Memory |\n",
            "|        ID   ID                                                   Usage      |\n",
            "|=============================================================================|\n",
            "|  No running processes found                                                 |\n",
            "+-----------------------------------------------------------------------------+\n"
          ]
        }
      ],
      "source": [
        "!nvidia-smi"
      ]
    },
    {
      "cell_type": "markdown",
      "source": [
        "## Downloading data"
      ],
      "metadata": {
        "id": "iNguHldhS6hb"
      }
    },
    {
      "cell_type": "code",
      "source": [
        "import zipfile\n",
        "\n",
        "!wget https://storage.googleapis.com/ztm_tf_course/food_vision/10_food_classes_10_percent.zip\n",
        "\n",
        "zip_ref = zipfile.ZipFile('10_food_classes_10_percent.zip')\n",
        "zip_ref.extractall()\n",
        "zip_ref.close()"
      ],
      "metadata": {
        "colab": {
          "base_uri": "https://localhost:8080/"
        },
        "id": "jrKQQOh2SzGx",
        "outputId": "bc00c8d1-2bf5-4fd3-b3c7-821b12770133"
      },
      "execution_count": 2,
      "outputs": [
        {
          "output_type": "stream",
          "name": "stdout",
          "text": [
            "--2022-12-24 10:20:09--  https://storage.googleapis.com/ztm_tf_course/food_vision/10_food_classes_10_percent.zip\n",
            "Resolving storage.googleapis.com (storage.googleapis.com)... 142.250.4.128, 142.251.10.128, 142.251.12.128, ...\n",
            "Connecting to storage.googleapis.com (storage.googleapis.com)|142.250.4.128|:443... connected.\n",
            "HTTP request sent, awaiting response... 200 OK\n",
            "Length: 168546183 (161M) [application/zip]\n",
            "Saving to: ‘10_food_classes_10_percent.zip’\n",
            "\n",
            "10_food_classes_10_ 100%[===================>] 160.74M  21.9MB/s    in 8.1s    \n",
            "\n",
            "2022-12-24 10:20:17 (19.9 MB/s) - ‘10_food_classes_10_percent.zip’ saved [168546183/168546183]\n",
            "\n"
          ]
        }
      ]
    },
    {
      "cell_type": "code",
      "source": [
        "import os\n",
        "\n",
        "for dirpath, dirnames, filenames in os.walk('10_food_classes_10_percent'):\n",
        "  print(f'there are {len(dirnames)} directories and {len(filenames)} images in \"{dirpath}\".')"
      ],
      "metadata": {
        "colab": {
          "base_uri": "https://localhost:8080/"
        },
        "id": "r-B7g-z_TT1l",
        "outputId": "5d91e696-491c-401f-9f46-891b0d93a515"
      },
      "execution_count": 3,
      "outputs": [
        {
          "output_type": "stream",
          "name": "stdout",
          "text": [
            "there are 2 directories and 0 images in \"10_food_classes_10_percent\".\n",
            "there are 10 directories and 0 images in \"10_food_classes_10_percent/test\".\n",
            "there are 0 directories and 250 images in \"10_food_classes_10_percent/test/steak\".\n",
            "there are 0 directories and 250 images in \"10_food_classes_10_percent/test/ice_cream\".\n",
            "there are 0 directories and 250 images in \"10_food_classes_10_percent/test/hamburger\".\n",
            "there are 0 directories and 250 images in \"10_food_classes_10_percent/test/chicken_wings\".\n",
            "there are 0 directories and 250 images in \"10_food_classes_10_percent/test/chicken_curry\".\n",
            "there are 0 directories and 250 images in \"10_food_classes_10_percent/test/pizza\".\n",
            "there are 0 directories and 250 images in \"10_food_classes_10_percent/test/grilled_salmon\".\n",
            "there are 0 directories and 250 images in \"10_food_classes_10_percent/test/ramen\".\n",
            "there are 0 directories and 250 images in \"10_food_classes_10_percent/test/sushi\".\n",
            "there are 0 directories and 250 images in \"10_food_classes_10_percent/test/fried_rice\".\n",
            "there are 10 directories and 0 images in \"10_food_classes_10_percent/train\".\n",
            "there are 0 directories and 75 images in \"10_food_classes_10_percent/train/steak\".\n",
            "there are 0 directories and 75 images in \"10_food_classes_10_percent/train/ice_cream\".\n",
            "there are 0 directories and 75 images in \"10_food_classes_10_percent/train/hamburger\".\n",
            "there are 0 directories and 75 images in \"10_food_classes_10_percent/train/chicken_wings\".\n",
            "there are 0 directories and 75 images in \"10_food_classes_10_percent/train/chicken_curry\".\n",
            "there are 0 directories and 75 images in \"10_food_classes_10_percent/train/pizza\".\n",
            "there are 0 directories and 75 images in \"10_food_classes_10_percent/train/grilled_salmon\".\n",
            "there are 0 directories and 75 images in \"10_food_classes_10_percent/train/ramen\".\n",
            "there are 0 directories and 75 images in \"10_food_classes_10_percent/train/sushi\".\n",
            "there are 0 directories and 75 images in \"10_food_classes_10_percent/train/fried_rice\".\n"
          ]
        }
      ]
    },
    {
      "cell_type": "markdown",
      "source": [
        "## Create data loaders (preparing the data)\n"
      ],
      "metadata": {
        "id": "5wMMH5dtUGt8"
      }
    },
    {
      "cell_type": "code",
      "source": [
        "from tensorflow.keras.preprocessing.image import ImageDataGenerator\n",
        "\n",
        "IMAGE_SHAPE = (224,224)\n",
        "BATCH_SIZE = 32\n",
        "\n",
        "train_dir = '10_food_classes_10_percent/train/'\n",
        "test_dir = '10_food_classes_10_percent/test/'\n",
        "\n",
        "train_datagen = ImageDataGenerator(rescale=1/255.)\n",
        "test_datagen = ImageDataGenerator(rescale=1/255.)\n",
        "\n",
        "print('training images:')\n",
        "train_data_10_percent = train_datagen.flow_from_directory(train_dir,\n",
        "                              target_size=IMAGE_SHAPE,\n",
        "                              batch_size=BATCH_SIZE,\n",
        "                              class_mode='categorical')\n",
        "\n",
        "print('testing images:')\n",
        "test_data = test_datagen.flow_from_directory(test_dir,\n",
        "                        target_size=IMAGE_SHAPE,\n",
        "                        batch_size=BATCH_SIZE,\n",
        "                        class_mode='categorical')"
      ],
      "metadata": {
        "colab": {
          "base_uri": "https://localhost:8080/"
        },
        "id": "zDRbd1E5Ty9A",
        "outputId": "22eb4945-5ce9-4fef-d063-67c4958a44a4"
      },
      "execution_count": 4,
      "outputs": [
        {
          "output_type": "stream",
          "name": "stdout",
          "text": [
            "training images:\n",
            "Found 750 images belonging to 10 classes.\n",
            "testing images:\n",
            "Found 2500 images belonging to 10 classes.\n"
          ]
        }
      ]
    },
    {
      "cell_type": "markdown",
      "source": [
        "## Setting up callbacks (things to run whilst our model trains)\n",
        "\n",
        "Callbacks are extra functionality you can add to your models to be performed during or after training. \n",
        "\n",
        "* Tracking experiments with the TensorBoard callback\n",
        "* Model checkpoint with the ModelCheckpoint callback\n",
        "* Stopping a model from training (before it trains too long and overfits) with the EarlyStopping callback"
      ],
      "metadata": {
        "id": "f8NEJbubVXYF"
      }
    },
    {
      "cell_type": "code",
      "source": [
        "# TensorBoard callback\n",
        "import datetime\n",
        "import tensorflow as tf\n",
        "\n",
        "def create_tensorboard_callback(dir_name, experiment_name):\n",
        "  log_dir = dir_name + '/' + experiment_name + '/' + datetime.datetime.now().strftime('%Y%M%D-%H%M%S')\n",
        "  tensorboard_callback = tf.keras.callbacks.TensorBoard(log_dir=log_dir)\n",
        "  print(f'saving TensorBoard log files to: {log_dir}')\n",
        "  return tensorboard_callback"
      ],
      "metadata": {
        "id": "Snx8H7TrVSvM"
      },
      "execution_count": 5,
      "outputs": []
    },
    {
      "cell_type": "markdown",
      "source": [
        "## Creating models using TensorFlow Hub\n",
        "\n"
      ],
      "metadata": {
        "id": "fJ8Cq3SsYLoC"
      }
    },
    {
      "cell_type": "code",
      "source": [
        "resnet_url = 'https://tfhub.dev/google/imagenet/resnet_v2_50/feature_vector/5'\n",
        "\n",
        "efficientnet_url = 'https://tfhub.dev/google/efficientnet/b0/feature-vector/1'"
      ],
      "metadata": {
        "id": "rnf6QXj1Xy9i"
      },
      "execution_count": 6,
      "outputs": []
    },
    {
      "cell_type": "code",
      "source": [
        "import tensorflow as tf\n",
        "import tensorflow_hub as hub\n",
        "from tensorflow.keras import layers"
      ],
      "metadata": {
        "id": "4xougNYzalp1"
      },
      "execution_count": 7,
      "outputs": []
    },
    {
      "cell_type": "code",
      "source": [
        "def create_model(model_url, num_classes=10):\n",
        "  '''\n",
        "  Takes a TensorFlow Hub URL and creates a Keras Sequential model with it.\n",
        "\n",
        "  Args:\n",
        "    model_url (srt): A TensorFlow Hub feature extraction URL.\n",
        "    num_classes (int): Number of output neurons in the output layer, \n",
        "      should be equal to number of target classes, default 10.\n",
        "\n",
        "  Returns:\n",
        "    An uncompiled Keras Sequential model with model_url as feature extractor\n",
        "    layer and Dense output layer with num_classes output neurons.\n",
        "  '''\n",
        "  feature_extractor_layer = hub.KerasLayer(model_url,\n",
        "                        trainable=False, #freeze the already learned patterns\n",
        "                        name='feature_extraction_layer',\n",
        "                        input_shape=IMAGE_SHAPE+(3,)) \n",
        "  \n",
        "  model = tf.keras.Sequential([\n",
        "      feature_extractor_layer,\n",
        "      layers.Dense(num_classes, activation='softmax', name='output_layer')\n",
        "  ])\n",
        "\n",
        "  return model\n"
      ],
      "metadata": {
        "id": "ZX6ZctQObFYu"
      },
      "execution_count": 8,
      "outputs": []
    },
    {
      "cell_type": "markdown",
      "source": [
        "## Creating and testing ResNet TensorFlow Hub Feature Extraction model"
      ],
      "metadata": {
        "id": "tMxSIhTldDOh"
      }
    },
    {
      "cell_type": "code",
      "source": [
        "resnet_model = create_model(resnet_url,\n",
        "               num_classes=train_data_10_percent.num_classes)"
      ],
      "metadata": {
        "id": "fAnbyV8VdCTf"
      },
      "execution_count": 9,
      "outputs": []
    },
    {
      "cell_type": "code",
      "source": [
        "resnet_model.compile(loss='categorical_crossentropy',\n",
        "           optimizer=tf.keras.optimizers.Adam(),\n",
        "           metrics='accuracy')"
      ],
      "metadata": {
        "id": "r87biSJsd0Vi"
      },
      "execution_count": 10,
      "outputs": []
    },
    {
      "cell_type": "code",
      "source": [
        "resnet_model.summary()"
      ],
      "metadata": {
        "colab": {
          "base_uri": "https://localhost:8080/"
        },
        "id": "rZHejxdndkMA",
        "outputId": "43cf0555-d7a1-4bf1-9842-2ce62b8009c2"
      },
      "execution_count": 11,
      "outputs": [
        {
          "output_type": "stream",
          "name": "stdout",
          "text": [
            "Model: \"sequential\"\n",
            "_________________________________________________________________\n",
            " Layer (type)                Output Shape              Param #   \n",
            "=================================================================\n",
            " feature_extraction_layer (K  (None, 2048)             23564800  \n",
            " erasLayer)                                                      \n",
            "                                                                 \n",
            " output_layer (Dense)        (None, 10)                20490     \n",
            "                                                                 \n",
            "=================================================================\n",
            "Total params: 23,585,290\n",
            "Trainable params: 20,490\n",
            "Non-trainable params: 23,564,800\n",
            "_________________________________________________________________\n"
          ]
        }
      ]
    },
    {
      "cell_type": "code",
      "source": [
        "from tensorflow.python.ops.variables import validate_synchronization_aggregation_trainable\n",
        "resnet_history = resnet_model.fit(train_data_10_percent,\n",
        "               epochs=5,\n",
        "               steps_per_epoch=len(train_data_10_percent),\n",
        "               validation_data=test_data,\n",
        "               validation_steps=len(test_data),\n",
        "               callbacks=[create_tensorboard_callback(dir_name='tensorflow_hub',\n",
        "                                   experiment_name='resnet50V2')])"
      ],
      "metadata": {
        "colab": {
          "base_uri": "https://localhost:8080/"
        },
        "id": "xR35ZiVddqcm",
        "outputId": "90983268-3db9-4b90-c315-c2b8e7d5e2a8"
      },
      "execution_count": 12,
      "outputs": [
        {
          "output_type": "stream",
          "name": "stdout",
          "text": [
            "saving TensorBoard log files to: tensorflow_hub/resnet50V2/20222012/24/22-102036\n",
            "Epoch 1/5\n",
            "24/24 [==============================] - 34s 844ms/step - loss: 1.9085 - accuracy: 0.3693 - val_loss: 1.1660 - val_accuracy: 0.6384\n",
            "Epoch 2/5\n",
            "24/24 [==============================] - 17s 708ms/step - loss: 0.9050 - accuracy: 0.7307 - val_loss: 0.8375 - val_accuracy: 0.7328\n",
            "Epoch 3/5\n",
            "24/24 [==============================] - 24s 1s/step - loss: 0.6070 - accuracy: 0.8333 - val_loss: 0.7452 - val_accuracy: 0.7636\n",
            "Epoch 4/5\n",
            "24/24 [==============================] - 16s 670ms/step - loss: 0.4723 - accuracy: 0.8813 - val_loss: 0.6913 - val_accuracy: 0.7804\n",
            "Epoch 5/5\n",
            "24/24 [==============================] - 16s 676ms/step - loss: 0.3710 - accuracy: 0.9280 - val_loss: 0.6664 - val_accuracy: 0.7856\n"
          ]
        }
      ]
    },
    {
      "cell_type": "code",
      "source": [
        "import pandas as pd\n",
        "import matplotlib.pyplot as plt\n",
        "\n",
        "def plot_loss_curves(history):\n",
        "  df = pd.DataFrame(history.history)\n",
        "\n",
        "  df[['loss','val_loss']].plot()\n",
        "  plt.title('Loss')\n",
        "  plt.xlabel('Epochs')\n",
        "  plt.ylabel('Loss')\n",
        "\n",
        "  plt.figure()\n",
        "  df[['accuracy','val_accuracy']].plot()\n",
        "  plt.title('Accuracy')\n",
        "  plt.xlabel('Epochs')\n",
        "  plt.ylabel('Accuracy')"
      ],
      "metadata": {
        "id": "DYNnNV0geM-C"
      },
      "execution_count": 13,
      "outputs": []
    },
    {
      "cell_type": "code",
      "source": [
        "plot_loss_curves(resnet_history)"
      ],
      "metadata": {
        "colab": {
          "base_uri": "https://localhost:8080/",
          "height": 591
        },
        "id": "8iwNJ-CKkAxw",
        "outputId": "b22fe3a4-f443-40b4-f042-efe59feb6910"
      },
      "execution_count": 14,
      "outputs": [
        {
          "output_type": "display_data",
          "data": {
            "text/plain": [
              "<Figure size 432x288 with 1 Axes>"
            ],
            "image/png": "[encoded data removed]"
          },
          "metadata": {
            "needs_background": "light"
          }
        },
        {
          "output_type": "display_data",
          "data": {
            "text/plain": [
              "<Figure size 432x288 with 0 Axes>"
            ]
          },
          "metadata": {}
        },
        {
          "output_type": "display_data",
          "data": {
            "text/plain": [
              "<Figure size 432x288 with 1 Axes>"
            ],
            "image/png": "[encoded data removed]"
          },
          "metadata": {
            "needs_background": "light"
          }
        }
      ]
    },
    {
      "cell_type": "markdown",
      "source": [
        "## Creating and testing EfficientNet TensorFlow Hub Feature Extraction model"
      ],
      "metadata": {
        "id": "OCtYXIxWmJ54"
      }
    },
    {
      "cell_type": "code",
      "source": [
        "efficientnet_model = create_model(model_url=efficientnet_url,\n",
        "                  num_classes=train_data_10_percent.num_classes)"
      ],
      "metadata": {
        "id": "HZBi8jK3kGpl"
      },
      "execution_count": 15,
      "outputs": []
    },
    {
      "cell_type": "code",
      "source": [
        "efficientnet_model.compile(loss='categorical_crossentropy',\n",
        "              optimizer=tf.keras.optimizers.Adam(),\n",
        "              metrics=['accuracy'])"
      ],
      "metadata": {
        "id": "k1HwP-pmm4nf"
      },
      "execution_count": 16,
      "outputs": []
    },
    {
      "cell_type": "code",
      "source": [
        "efficientnet_history = efficientnet_model.fit(train_data_10_percent,\n",
        "                        epochs=5,\n",
        "                        validation_data=test_data,\n",
        "                        steps_per_epoch=len(train_data_10_percent),\n",
        "                        validation_steps=len(test_data),\n",
        "                        callbacks=[create_tensorboard_callback(dir_name='tensorflow_hub',\n",
        "                                            experiment_name='effcientnetb0')])"
      ],
      "metadata": {
        "colab": {
          "base_uri": "https://localhost:8080/"
        },
        "id": "5l51wQ0nnFTQ",
        "outputId": "1e1ff76b-0d51-43cd-ff39-2ced31bed6de"
      },
      "execution_count": 17,
      "outputs": [
        {
          "output_type": "stream",
          "name": "stdout",
          "text": [
            "saving TensorBoard log files to: tensorflow_hub/effcientnetb0/20222212/24/22-102229\n",
            "Epoch 1/5\n",
            "24/24 [==============================] - 20s 697ms/step - loss: 1.8738 - accuracy: 0.4067 - val_loss: 1.3188 - val_accuracy: 0.7264\n",
            "Epoch 2/5\n",
            "24/24 [==============================] - 15s 640ms/step - loss: 1.0821 - accuracy: 0.7653 - val_loss: 0.8687 - val_accuracy: 0.8236\n",
            "Epoch 3/5\n",
            "24/24 [==============================] - 16s 679ms/step - loss: 0.7564 - accuracy: 0.8320 - val_loss: 0.6941 - val_accuracy: 0.8448\n",
            "Epoch 4/5\n",
            "24/24 [==============================] - 15s 638ms/step - loss: 0.6082 - accuracy: 0.8693 - val_loss: 0.6098 - val_accuracy: 0.8508\n",
            "Epoch 5/5\n",
            "24/24 [==============================] - 15s 634ms/step - loss: 0.5136 - accuracy: 0.8867 - val_loss: 0.5525 - val_accuracy: 0.8636\n"
          ]
        }
      ]
    },
    {
      "cell_type": "code",
      "source": [
        "plot_loss_curves(efficientnet_history)"
      ],
      "metadata": {
        "colab": {
          "base_uri": "https://localhost:8080/",
          "height": 591
        },
        "id": "IRckeQdjmx9L",
        "outputId": "7e1ffd04-946a-4455-e55a-b0cdf01603a6"
      },
      "execution_count": 18,
      "outputs": [
        {
          "output_type": "display_data",
          "data": {
            "text/plain": [
              "<Figure size 432x288 with 1 Axes>"
            ],
            "image/png": "[encoded data removed]"
          },
          "metadata": {
            "needs_background": "light"
          }
        },
        {
          "output_type": "display_data",
          "data": {
            "text/plain": [
              "<Figure size 432x288 with 0 Axes>"
            ]
          },
          "metadata": {}
        },
        {
          "output_type": "display_data",
          "data": {
            "text/plain": [
              "<Figure size 432x288 with 1 Axes>"
            ],
            "image/png": "[encoded data removed]"
          },
          "metadata": {
            "needs_background": "light"
          }
        }
      ]
    },
    {
      "cell_type": "markdown",
      "source": [
        "## Different types of transfer learning\n",
        "\n",
        "* Transfer learning with no changes\n",
        "* Feature extraction\n",
        "* Fine-tuning transfer learning"
      ],
      "metadata": {
        "id": "JL00GIofpbrm"
      }
    },
    {
      "cell_type": "code",
      "source": [
        "len(efficientnet_model.layers[0].weights)"
      ],
      "metadata": {
        "colab": {
          "base_uri": "https://localhost:8080/"
        },
        "id": "R8C7jSvCm3iI",
        "outputId": "55f056f5-4ef4-4696-fb7a-883796d273ad"
      },
      "execution_count": 22,
      "outputs": [
        {
          "output_type": "execute_result",
          "data": {
            "text/plain": [
              "309"
            ]
          },
          "metadata": {},
          "execution_count": 22
        }
      ]
    },
    {
      "cell_type": "markdown",
      "source": [
        "## Comparing model results using TensorBoard"
      ],
      "metadata": {
        "id": "F1FY7s_-rzKw"
      }
    },
    {
      "cell_type": "code",
      "source": [
        "!tensorboard dev upload --logdir ./tensorflow_hub/ \\\n",
        "  --name 'EfficientNet vs. ResNet' \\\n",
        "  --description 'Comparing two different TF Hub feature extraction model architecture' \\\n",
        "  --one_shot"
      ],
      "metadata": {
        "colab": {
          "base_uri": "https://localhost:8080/"
        },
        "id": "NZxRwPtCqblr",
        "outputId": "ffb1d8a4-9547-4073-def4-d390f8caca73"
      },
      "execution_count": 24,
      "outputs": [
        {
          "output_type": "stream",
          "name": "stdout",
          "text": [
            "\n",
            "***** TensorBoard Uploader *****\n",
            "\n",
            "This will upload your TensorBoard logs to https://tensorboard.dev/ from\n",
            "the following directory:\n",
            "\n",
            "./tensorflow_hub/\n",
            "\n",
            "This TensorBoard will be visible to everyone. Do not upload sensitive\n",
            "data.\n",
            "\n",
            "Your use of this service is subject to Google's Terms of Service\n",
            "<https://policies.google.com/terms> and Privacy Policy\n",
            "<https://policies.google.com/privacy>, and TensorBoard.dev's Terms of Service\n",
            "<https://tensorboard.dev/policy/terms/>.\n",
            "\n",
            "This notice will not be shown again while you are logged into the uploader.\n",
            "To log out, run `tensorboard dev auth revoke`.\n",
            "\n",
            "Continue? (yes/NO) yes\n",
            "\n",
            "Please visit this URL to authorize this application: https://accounts.google.com/o/oauth2/auth?response_type=code&client_id=373649185512-8v619h5kft38l4456nm2dj4ubeqsrvh6.apps.googleusercontent.com&redirect_uri=urn%3Aietf%3Awg%3Aoauth%3A2.0%3Aoob&scope=openid+https%3A%2F%2Fwww.googleapis.com%2Fauth%2Fuserinfo.email&state=6ZnFe8PxLjskQC4dmg7arG7vpe6e9g&prompt=consent&access_type=offline\n",
            "Enter the authorization code: 4/1AWgavdfBcGLq3bRIM0WZRrKBhZ3wNd2ndo5MFF1VJTDyD1ZEBQe-j3p8a5s\n",
            "\n",
            "\n",
            "New experiment created. View your TensorBoard at: https://tensorboard.dev/experiment/eUpE8WvNROuomkTlipwRJw/\n",
            "\n",
            "\u001b[1m[2022-12-24T10:38:02]\u001b[0m Started scanning logdir.\n",
            "\u001b[1m[2022-12-24T10:38:07]\u001b[0m Total uploaded: 60 scalars, 0 tensors, 2 binary objects (3.0 MB)\n",
            "\u001b[1m[2022-12-24T10:38:07]\u001b[0m Done scanning logdir.\n",
            "\n",
            "\n",
            "Done. View your TensorBoard at https://tensorboard.dev/experiment/eUpE8WvNROuomkTlipwRJw/\n"
          ]
        }
      ]
    },
    {
      "cell_type": "code",
      "source": [
        "!tensorboard dev list"
      ],
      "metadata": {
        "colab": {
          "base_uri": "https://localhost:8080/"
        },
        "id": "xddj5AcNtSpq",
        "outputId": "92e89310-1d82-49b1-a4ff-0a9fbd61d1b5"
      },
      "execution_count": 25,
      "outputs": [
        {
          "output_type": "stream",
          "name": "stdout",
          "text": [
            "https://tensorboard.dev/experiment/eUpE8WvNROuomkTlipwRJw/\n",
            "\tName                 EfficientNet vs. ResNet\n",
            "\tDescription          Comparing two different TF Hub feature extraction model architecture\n",
            "\tId                   eUpE8WvNROuomkTlipwRJw\n",
            "\tCreated              2022-12-24 10:38:02 (4 minutes ago)\n",
            "\tUpdated              2022-12-24 10:38:07 (4 minutes ago)\n",
            "\tRuns                 4\n",
            "\tTags                 5\n",
            "\tScalars              60\n",
            "\tTensor bytes         0\n",
            "\tBinary object bytes  3140503\n",
            "Total: 1 experiment(s)\n"
          ]
        }
      ]
    },
    {
      "cell_type": "code",
      "source": [
        "#!tensorboard dev delete --experiment_id eUpE8WvNROuomkTlipwRJw"
      ],
      "metadata": {
        "id": "Bcjwqbm7uc-l"
      },
      "execution_count": 26,
      "outputs": []
    },
    {
      "cell_type": "code",
      "source": [],
      "metadata": {
        "id": "O-Kmx9QsuwND"
      },
      "execution_count": null,
      "outputs": []
    }
  ]
}